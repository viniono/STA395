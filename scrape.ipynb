{
 "cells": [
  {
   "attachments": {},
   "cell_type": "markdown",
   "metadata": {},
   "source": [
    "# Scraping notebook"
   ]
  },
  {
   "cell_type": "code",
   "execution_count": 1,
   "metadata": {},
   "outputs": [],
   "source": [
    "import requests\n",
    "from bs4 import BeautifulSoup\n",
    "import pandas as pd\n",
    "import time\n",
    "import csv\n",
    "from datetime import datetime"
   ]
  },
  {
   "cell_type": "code",
   "execution_count": 7,
   "metadata": {},
   "outputs": [],
   "source": [
    "def get_fomc_minutes_links():\n",
    "    base_url = \"https://www.federalreserve.gov\"\n",
    "    archive_url = base_url + \"/monetarypolicy/fomccalendars.htm\"\n",
    "    \n",
    "    response = requests.get(archive_url)\n",
    "    soup = BeautifulSoup(response.text, \"html.parser\")\n",
    "    \n",
    "    minutes_links = []\n",
    "    for link in soup.find_all(\"a\"):\n",
    "        if \"FOMC Minutes\" in link.text:\n",
    "            minutes_links.append(base_url + link[\"href\"])\n",
    "    \n",
    "    return minutes_links"
   ]
  },
  {
   "cell_type": "code",
   "execution_count": 8,
   "metadata": {},
   "outputs": [
    {
     "data": {
      "text/plain": [
       "[]"
      ]
     },
     "execution_count": 8,
     "metadata": {},
     "output_type": "execute_result"
    }
   ],
   "source": [
    "get_fomc_minutes_links()"
   ]
  },
  {
   "cell_type": "code",
   "execution_count": 3,
   "metadata": {},
   "outputs": [],
   "source": [
    "def get_minute_text_and_date(url):\n",
    "    response = requests.get(url)\n",
    "    soup = BeautifulSoup(response.text, 'html.parser')\n",
    "    text = soup.find('div', id='article').get_text(separator=' ', strip=True)\n",
    "    date = soup.find('p', class_='article__time').get_text(strip=True)\n",
    "    date = datetime.strptime(date, \"Release Date: %B %d, %Y\")\n",
    "    return text, date"
   ]
  },
  {
   "cell_type": "code",
   "execution_count": 4,
   "metadata": {},
   "outputs": [],
   "source": [
    "def scrape_fomc_minutes():\n",
    "    links = get_minutes_links()\n",
    "    minutes_data = []\n",
    "    for link in links:\n",
    "        text, date = get_minute_text_and_date(link)\n",
    "        minutes_data.append({'date': date, 'text': text})\n",
    "        time.sleep(1)  # To avoid overwhelming the server with requests\n",
    "    return minutes_data"
   ]
  },
  {
   "cell_type": "code",
   "execution_count": 5,
   "metadata": {},
   "outputs": [],
   "source": [
    "def save_to_csv(minutes_data):\n",
    "    df = pd.DataFrame(minutes_data)\n",
    "    df.to_csv('fomc_minutes.csv', index=False)"
   ]
  },
  {
   "cell_type": "code",
   "execution_count": 6,
   "metadata": {},
   "outputs": [],
   "source": [
    "if __name__ == \"__main__\":\n",
    "    minutes_data = scrape_fomc_minutes()\n",
    "    save_to_csv(minutes_data)"
   ]
  },
  {
   "cell_type": "code",
   "execution_count": null,
   "metadata": {},
   "outputs": [],
   "source": []
  }
 ],
 "metadata": {
  "kernelspec": {
   "display_name": "Python 3",
   "language": "python",
   "name": "python3"
  },
  "language_info": {
   "codemirror_mode": {
    "name": "ipython",
    "version": 3
   },
   "file_extension": ".py",
   "mimetype": "text/x-python",
   "name": "python",
   "nbconvert_exporter": "python",
   "pygments_lexer": "ipython3",
   "version": "3.10.10"
  },
  "orig_nbformat": 4
 },
 "nbformat": 4,
 "nbformat_minor": 2
}
